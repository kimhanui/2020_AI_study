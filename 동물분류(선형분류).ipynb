{
  "nbformat": 4,
  "nbformat_minor": 0,
  "metadata": {
    "colab": {
      "name": "동물분류(선형분류)",
      "provenance": [],
      "collapsed_sections": [],
      "authorship_tag": "ABX9TyNDWE7MrNaKX46E5DxCLsF5",
      "include_colab_link": true
    },
    "kernelspec": {
      "name": "python3",
      "display_name": "Python 3"
    }
  },
  "cells": [
    {
      "cell_type": "markdown",
      "metadata": {
        "id": "view-in-github",
        "colab_type": "text"
      },
      "source": [
        "<a href=\"https://colab.research.google.com/github/kimhanui/2020_AI_study/blob/develop/%EB%8F%99%EB%AC%BC%EB%B6%84%EB%A5%98(%EC%84%A0%ED%98%95%EB%B6%84%EB%A5%98).ipynb\" target=\"_parent\"><img src=\"https://colab.research.google.com/assets/colab-badge.svg\" alt=\"Open In Colab\"/></a>"
      ]
    },
    {
      "cell_type": "markdown",
      "metadata": {
        "id": "TZ1IeMagB1ne",
        "colab_type": "text"
      },
      "source": [
        "## 데이터 로더"
      ]
    },
    {
      "cell_type": "code",
      "metadata": {
        "id": "O8LOnfdBBPmL",
        "colab_type": "code",
        "outputId": "925eb84c-2c9f-4ca2-cc21-142c34c790b5",
        "colab": {
          "base_uri": "https://localhost:8080/",
          "height": 287
        }
      },
      "source": [
        "import numpy as np\n",
        "import torch\n",
        "import torch.optim as optim\n",
        "\n",
        "# For reproductibility\n",
        "torch.manual_seed(1)\n",
        "\n",
        "! curl 'https://raw.githubusercontent.com/sejongresearch/2020.Spring.AI/master/HW/zoo_class.csv' -o 'zoo_class.csv'\n",
        "print('Done.....\\n')\n",
        "xy = np.loadtxt('zoo_class.csv', delimiter=',', dtype=np.float32)\n",
        "\n",
        "x_data = torch.FloatTensor(xy[:,0:-1])\n",
        "y_data = torch.LongTensor(xy[:,[-1]])\n",
        "\n",
        "print(x_data[:5])\n",
        "print(y_data[:5])"
      ],
      "execution_count": 30,
      "outputs": [
        {
          "output_type": "stream",
          "text": [
            "  % Total    % Received % Xferd  Average Speed   Time    Time     Time  Current\n",
            "                                 Dload  Upload   Total   Spent    Left  Speed\n",
            "\r  0     0    0     0    0     0      0      0 --:--:-- --:--:-- --:--:--     0\r100  3535  100  3535    0     0  28975      0 --:--:-- --:--:-- --:--:-- 28975\n",
            "Done.....\n",
            "\n",
            "tensor([[1., 0., 0., 1., 0., 0., 1., 1., 1., 1., 0., 0., 4., 0., 0., 1.],\n",
            "        [1., 0., 0., 1., 0., 0., 0., 1., 1., 1., 0., 0., 4., 1., 0., 1.],\n",
            "        [0., 0., 1., 0., 0., 1., 1., 1., 1., 0., 0., 1., 0., 1., 0., 0.],\n",
            "        [1., 0., 0., 1., 0., 0., 1., 1., 1., 1., 0., 0., 4., 0., 0., 1.],\n",
            "        [1., 0., 0., 1., 0., 0., 1., 1., 1., 1., 0., 0., 4., 1., 0., 1.]])\n",
            "tensor([[0],\n",
            "        [0],\n",
            "        [3],\n",
            "        [0],\n",
            "        [0]])\n"
          ],
          "name": "stdout"
        }
      ]
    },
    {
      "cell_type": "markdown",
      "metadata": {
        "id": "107WXYryB4x7",
        "colab_type": "text"
      },
      "source": [
        "## 모델 학습"
      ]
    },
    {
      "cell_type": "code",
      "metadata": {
        "id": "kdfq2PcnB7XF",
        "colab_type": "code",
        "colab": {
          "base_uri": "https://localhost:8080/",
          "height": 557
        },
        "outputId": "33caf836-d593-4bfd-de86-1b14511a3434"
      },
      "source": [
        "import torch.nn.functional as F # for softmax\n",
        "\n",
        "#모델 초기화\n",
        "nb_class = 7\n",
        "nb_data = len(y_data)\n",
        "\n",
        "W = torch.zeros((16, nb_class), requires_grad=True)\n",
        "b = torch.zeros(1, requires_grad=True)\n",
        "#optimizer 설정\n",
        "optimizer = optim.SGD([W,b],lr=0.1)\n",
        "nb_epochs = 300000\n",
        "\n",
        "for epoch in range(nb_epochs+1):\n",
        "    #hypothesis <- softmax\n",
        "    hypothesis = F.softmax(x_data.matmul(W)+b, dim=1)\n",
        "\n",
        "    #cost\n",
        "    y_one_hot = torch.zeros(nb_data, nb_class)\n",
        "    \n",
        "    y_one_hot.scatter_(1, y_data, 1)  # one_hot 주의!! y_data = coloumn vector, scatter=털어넣다..?\n",
        "    cost = (y_one_hot * -torch.log(F.softmax(hypothesis, dim=1))).sum(dim=1).mean()\n",
        "\n",
        "    #cost -> hypothesis 개선\n",
        "    optimizer.zero_grad()\n",
        "    cost.backward()\n",
        "    optimizer.step()\n",
        "\n",
        "    #로그 출력\n",
        "    if epoch % 10000 == 1:\n",
        "        print('Epoch: {:4d}/{} cost: {:.4}'.format(epoch, nb_epochs, cost.item(), W))\n"
      ],
      "execution_count": 60,
      "outputs": [
        {
          "output_type": "stream",
          "text": [
            "Epoch:    1/300000 cost: 1.941\n",
            "Epoch: 10001/300000 cost: 1.296\n",
            "Epoch: 20001/300000 cost: 1.285\n",
            "Epoch: 30001/300000 cost: 1.211\n",
            "Epoch: 40001/300000 cost: 1.208\n",
            "Epoch: 50001/300000 cost: 1.206\n",
            "Epoch: 60001/300000 cost: 1.203\n",
            "Epoch: 70001/300000 cost: 1.171\n",
            "Epoch: 80001/300000 cost: 1.169\n",
            "Epoch: 90001/300000 cost: 1.168\n",
            "Epoch: 100001/300000 cost: 1.168\n",
            "Epoch: 110001/300000 cost: 1.167\n",
            "Epoch: 120001/300000 cost: 1.167\n",
            "Epoch: 130001/300000 cost: 1.167\n",
            "Epoch: 140001/300000 cost: 1.167\n",
            "Epoch: 150001/300000 cost: 1.167\n",
            "Epoch: 160001/300000 cost: 1.167\n",
            "Epoch: 170001/300000 cost: 1.167\n",
            "Epoch: 180001/300000 cost: 1.166\n",
            "Epoch: 190001/300000 cost: 1.166\n",
            "Epoch: 200001/300000 cost: 1.166\n",
            "Epoch: 210001/300000 cost: 1.166\n",
            "Epoch: 220001/300000 cost: 1.166\n",
            "Epoch: 230001/300000 cost: 1.166\n",
            "Epoch: 240001/300000 cost: 1.166\n",
            "Epoch: 250001/300000 cost: 1.166\n",
            "Epoch: 260001/300000 cost: 1.166\n",
            "Epoch: 270001/300000 cost: 1.166\n",
            "Epoch: 280001/300000 cost: 1.166\n",
            "Epoch: 290001/300000 cost: 1.166\n"
          ],
          "name": "stdout"
        }
      ]
    },
    {
      "cell_type": "markdown",
      "metadata": {
        "id": "s9fEdrAgB6vZ",
        "colab_type": "text"
      },
      "source": [
        "## 정답 예측"
      ]
    },
    {
      "cell_type": "code",
      "metadata": {
        "id": "316sqEcuB-vQ",
        "colab_type": "code",
        "colab": {
          "base_uri": "https://localhost:8080/",
          "height": 377
        },
        "outputId": "06caeec4-3d4e-4cf8-f949-85d5903cc352"
      },
      "source": [
        "hypothesis = F.softmax(x_data.matmul(W) +b, dim=1)\n",
        "predict = torch.argmax(hypothesis, dim=1)\n",
        "\n",
        "# print(hypothesis)\n",
        "print(predict)\n",
        "print(y_data.squeeze())\n",
        "#정확도 계산\n",
        "correct_prediction = predict.float() == y_data.squeeze()\n",
        "print(correct_prediction)\n",
        "accuracy = correct_prediction.sum().item() / len(correct_prediction)\n",
        "print('The model has an accuracy of {:2.2f}% for the training set !'.format(accuracy * 100))"
      ],
      "execution_count": 72,
      "outputs": [
        {
          "output_type": "stream",
          "text": [
            "tensor([0, 0, 3, 0, 0, 0, 0, 3, 3, 0, 0, 1, 3, 6, 6, 6, 1, 0, 3, 0, 1, 1, 0, 1,\n",
            "        5, 4, 4, 0, 0, 0, 5, 0, 0, 1, 3, 0, 0, 1, 3, 5, 5, 1, 5, 1, 0, 0, 6, 0,\n",
            "        0, 0, 0, 5, 4, 6, 0, 0, 1, 1, 1, 1, 3, 3, 2, 0, 0, 0, 0, 0, 0, 0, 0, 1,\n",
            "        6, 3, 0, 0, 2, 6, 1, 1, 2, 6, 3, 1, 0, 6, 3, 1, 5, 4, 2, 2, 3, 0, 0, 1,\n",
            "        0, 5, 0, 6, 1])\n",
            "tensor([0, 0, 3, 0, 0, 0, 0, 3, 3, 0, 0, 1, 3, 6, 6, 6, 1, 0, 3, 0, 1, 1, 0, 1,\n",
            "        5, 4, 4, 0, 0, 0, 5, 0, 0, 1, 3, 0, 0, 1, 3, 5, 5, 1, 5, 1, 0, 0, 6, 0,\n",
            "        0, 0, 0, 5, 4, 6, 0, 0, 1, 1, 1, 1, 3, 3, 2, 0, 0, 0, 0, 0, 0, 0, 0, 1,\n",
            "        6, 3, 0, 0, 2, 6, 1, 1, 2, 6, 3, 1, 0, 6, 3, 1, 5, 4, 2, 2, 3, 0, 0, 1,\n",
            "        0, 5, 0, 6, 1])\n",
            "tensor([True, True, True, True, True, True, True, True, True, True, True, True,\n",
            "        True, True, True, True, True, True, True, True, True, True, True, True,\n",
            "        True, True, True, True, True, True, True, True, True, True, True, True,\n",
            "        True, True, True, True, True, True, True, True, True, True, True, True,\n",
            "        True, True, True, True, True, True, True, True, True, True, True, True,\n",
            "        True, True, True, True, True, True, True, True, True, True, True, True,\n",
            "        True, True, True, True, True, True, True, True, True, True, True, True,\n",
            "        True, True, True, True, True, True, True, True, True, True, True, True,\n",
            "        True, True, True, True, True])\n",
            "The model has an accuracy of 100.00% for the training set !\n"
          ],
          "name": "stdout"
        }
      ]
    }
  ]
}